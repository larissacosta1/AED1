{
 "cells": [
  {
   "cell_type": "markdown",
   "metadata": {},
   "source": [
    "![Algoritmos e Estrutura de Dados I](AED1_banner.jpg)"
   ]
  },
  {
   "cell_type": "markdown",
   "metadata": {},
   "source": [
    "## <font color='blue'>Algoritmos e Estrutura de Dados I</font>\n",
    "## <font color='blue'>Aula 9 -  Revisão</font>"
   ]
  },
  {
   "cell_type": "code",
   "execution_count": null,
   "metadata": {},
   "outputs": [],
   "source": [
    "# Versão da Linguagem Python\n",
    "from platform import python_version\n",
    "print('Versão da Linguagem Python Usada Neste Jupyter Notebook:', python_version())"
   ]
  },
  {
   "cell_type": "markdown",
   "metadata": {},
   "source": [
    "## Estrutura sequencial"
   ]
  },
  {
   "cell_type": "markdown",
   "metadata": {},
   "source": [
    "Escreva um programa em Python que solicite ao usuário o valor de dois números, calcule e exiba a soma deles."
   ]
  },
  {
   "cell_type": "code",
   "execution_count": null,
   "metadata": {},
   "outputs": [],
   "source": [
    "# Solicita ao usuário para inserir dois números\n",
    "numero1 = float(input(\"Digite o primeiro número: \"))\n",
    "numero2 = float(input(\"Digite o segundo número: \"))\n",
    "\n",
    "# Calcula a soma dos números\n",
    "soma = numero1 + numero2\n",
    "\n",
    "# Exibe o resultado\n",
    "print(\"A soma dos dois números é:\", soma)\n"
   ]
  },
  {
   "attachments": {},
   "cell_type": "markdown",
   "metadata": {},
   "source": [
    "Escreva um programa em Python que solicite ao usuário a temperatura em graus Celsius e converta para Fahrenheit. A fórmula para conversão é F = C * 9/5 + 32.\n"
   ]
  },
  {
   "cell_type": "code",
   "execution_count": null,
   "metadata": {},
   "outputs": [],
   "source": [
    "# Solicita ao usuário para inserir a temperatura em Celsius\n",
    "celsius = float(input(\"Digite a temperatura em Celsius: \"))\n",
    "\n",
    "# Converte a temperatura para Fahrenheit\n",
    "fahrenheit = celsius * 9/5 + 32\n",
    "\n",
    "# Exibe o resultado\n",
    "print(\"A temperatura em Fahrenheit é:\", fahrenheit)\n"
   ]
  },
  {
   "cell_type": "markdown",
   "metadata": {},
   "source": [
    "## Estrutura Condicional"
   ]
  },
  {
   "cell_type": "markdown",
   "metadata": {},
   "source": [
    "Escreva um programa em Python que solicite ao usuário um número e verifique se ele é positivo, negativo ou zero. Exiba a mensagem correspondente.\n"
   ]
  },
  {
   "cell_type": "code",
   "execution_count": null,
   "metadata": {},
   "outputs": [],
   "source": [
    "# Solicita ao usuário para inserir um número\n",
    "numero = float(input(\"Digite um número: \"))\n",
    "\n",
    "# Verifica se o número é positivo, negativo ou zero\n",
    "if numero > 0:\n",
    "    print(\"O número é positivo.\")\n",
    "elif numero < 0:\n",
    "    print(\"O número é negativo.\")\n",
    "else:\n",
    "    print(\"O número é zero.\")\n"
   ]
  },
  {
   "cell_type": "markdown",
   "metadata": {},
   "source": [
    "Escreva um programa em Python que solicite ao usuário três números e determine qual é o maior entre eles.\n"
   ]
  },
  {
   "cell_type": "code",
   "execution_count": null,
   "metadata": {},
   "outputs": [],
   "source": [
    "# Solicita ao usuário para inserir três números\n",
    "num1 = float(input(\"Digite o primeiro número: \"))\n",
    "num2 = float(input(\"Digite o segundo número: \"))\n",
    "num3 = float(input(\"Digite o terceiro número: \"))\n",
    "\n",
    "# Verifica qual é o maior número\n",
    "if num1 >= num2 and num1 >= num3:\n",
    "    print(\"O maior número é:\", num1)\n",
    "elif num2 >= num1 and num2 >= num3:\n",
    "    print(\"O maior número é:\", num2)\n",
    "else:\n",
    "    print(\"O maior número é:\", num3)\n"
   ]
  },
  {
   "cell_type": "markdown",
   "metadata": {},
   "source": [
    "## Estrutura de Repetição"
   ]
  },
  {
   "cell_type": "markdown",
   "metadata": {},
   "source": [
    "Escreva um programa em Python que exiba todos os números de 1 a 10.\n"
   ]
  },
  {
   "cell_type": "code",
   "execution_count": null,
   "metadata": {},
   "outputs": [],
   "source": [
    "# Exibe os números de 1 a 10\n",
    "for i in range(1, 11):\n",
    "    print(i)\n"
   ]
  },
  {
   "cell_type": "markdown",
   "metadata": {},
   "source": [
    "Escreva um programa em Python que solicite ao usuário um número inteiro positivo e calcule o fatorial desse número.\n"
   ]
  },
  {
   "cell_type": "code",
   "execution_count": null,
   "metadata": {},
   "outputs": [],
   "source": [
    "# Solicita ao usuário para inserir um número inteiro positivo\n",
    "numero = int(input(\"Digite um número inteiro positivo: \"))\n",
    "\n",
    "# Verifica se o número é positivo\n",
    "if numero < 0:\n",
    "    print(\"Por favor, insira um número inteiro positivo.\")\n",
    "else:\n",
    "    fatorial = 1\n",
    "    for i in range(1, numero + 1):\n",
    "        fatorial *= i\n",
    "    print(\"O fatorial de\", numero, \"é:\", fatorial)\n"
   ]
  },
  {
   "cell_type": "markdown",
   "metadata": {},
   "source": [
    "## Geral"
   ]
  },
  {
   "cell_type": "markdown",
   "metadata": {},
   "source": [
    "Você é um cientista de dados e precisa analisar as notas de um conjunto de estudantes em uma disciplina. Você deverá escrever um programa em Python que solicite ao usuário o número de estudantes e, em seguida, as notas desses estudantes. O programa deve calcular e exibir:\n",
    "\n",
    "- A média das notas.\n",
    "- A maior e a menor nota.\n",
    "- O número de estudantes aprovados (nota maior ou igual a 6) e reprovados (nota menor que 6).\n",
    "\n",
    "Regras:\n",
    "\n",
    "- Utilize variáveis simples para armazenar as informações.\n",
    "- Utilize estruturas de repetição para coletar as notas dos estudantes.\n",
    "- Utilize estruturas condicionais para determinar o status de aprovação dos estudantes."
   ]
  },
  {
   "cell_type": "code",
   "execution_count": null,
   "metadata": {},
   "outputs": [],
   "source": [
    "# Solicita o número de estudantes\n",
    "num_estudantes = int(input(\"Digite o número de estudantes: \"))\n",
    "# Inicializa variáveis para cálculos\n",
    "soma_notas = 0\n",
    "maior_nota = -1  # Inicializa com um valor baixo\n",
    "menor_nota = 101  # Inicializa com um valor alto\n",
    "num_aprovados = 0\n",
    "num_reprovados = 0\n",
    "\n",
    "# Coleta as notas dos estudantes e realiza os cálculos\n",
    "for i in range(num_estudantes):\n",
    "    nota = float(input(f\"Digite a nota do estudante {i+1}: \"))\n",
    "    soma_notas += nota\n",
    "    \n",
    "    # Atualiza a maior e a menor nota\n",
    "    if nota > maior_nota:\n",
    "        maior_nota = nota\n",
    "    if nota < menor_nota:\n",
    "        menor_nota = nota\n",
    "    \n",
    "    # Verifica se o estudante foi aprovado ou reprovado\n",
    "    if nota >= 6:\n",
    "        num_aprovados += 1\n",
    "    else:\n",
    "        num_reprovados += 1\n",
    "\n",
    "# Calcula a média das notas\n",
    "media_notas = soma_notas / num_estudantes\n",
    "\n",
    "# Exibe os resultados\n",
    "print(\"\\nResultados da Análise:\")\n",
    "print(f\"Média das notas: {media_notas:.2f}\")\n",
    "print(f\"Maior nota: {maior_nota}\")\n",
    "print(f\"Menor nota: {menor_nota}\")\n",
    "print(f\"Número de estudantes aprovados: {num_aprovados}\")\n",
    "print(f\"Número de estudantes reprovados: {num_reprovados}\")\n"
   ]
  },
  {
   "cell_type": "markdown",
   "metadata": {},
   "source": [
    "## Fim da Aula 9"
   ]
  }
 ],
 "metadata": {
  "kernelspec": {
   "display_name": "Python 3 (ipykernel)",
   "language": "python",
   "name": "python3"
  },
  "language_info": {
   "codemirror_mode": {
    "name": "ipython",
    "version": 3
   },
   "file_extension": ".py",
   "mimetype": "text/x-python",
   "name": "python",
   "nbconvert_exporter": "python",
   "pygments_lexer": "ipython3",
   "version": "3.11.8"
  }
 },
 "nbformat": 4,
 "nbformat_minor": 4
}
